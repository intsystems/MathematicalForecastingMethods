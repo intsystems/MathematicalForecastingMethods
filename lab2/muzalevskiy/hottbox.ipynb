{
 "cells": [
  {
   "cell_type": "code",
   "execution_count": 23,
   "metadata": {
    "collapsed": true
   },
   "outputs": [],
   "source": [
    "import numpy as np\n",
    "\n",
    "from hottbox.core import Tensor\n",
    "from hottbox.algorithms.decomposition import TTSVD, HOSVD, HOOI, CPD\n",
    "from hottbox.metrics import residual_rel_error\n",
    "\n",
    "import tensortools as tt"
   ]
  },
  {
   "cell_type": "code",
   "execution_count": 24,
   "metadata": {
    "collapsed": true
   },
   "outputs": [],
   "source": [
    "# Создание синтетического датасета\n",
    "I, J, K, R = 100, 100, 100, 4 # размерность и ранг матрицы\n",
    "tensor = tt.randn_ktensor((I, J, K), rank=R).full()\n",
    "tensor = tensor + np.random.randn(I, J, K)  # добавление шума"
   ]
  },
  {
   "cell_type": "code",
   "execution_count": 25,
   "metadata": {},
   "outputs": [
    {
     "data": {
      "text/plain": [
       "array([[[-9.28296123e-01,  8.54125478e-03,  3.78117934e+00, ...,\n",
       "         -2.38525125e+00, -2.43529819e+00,  2.51760936e+00],\n",
       "        [-1.15181455e+00,  1.66111505e+00, -4.32168309e+00, ...,\n",
       "          1.44257092e+00,  1.54390051e+00, -1.18853162e+00],\n",
       "        [-3.39008406e-02,  3.07528144e+00, -8.02651782e+00, ...,\n",
       "         -2.14873916e-01,  3.88520053e+00, -2.24545140e+00],\n",
       "        ...,\n",
       "        [-2.99846577e-01,  3.49562265e+00, -5.54727765e+00, ...,\n",
       "          2.14626837e-01,  3.26503988e+00, -1.44748713e+00],\n",
       "        [ 1.98364616e+00, -1.02699050e+00, -6.69521991e-01, ...,\n",
       "         -1.36369382e+00, -6.75661418e-01,  1.42803402e+00],\n",
       "        [ 1.66013058e+00, -1.64959131e+00, -1.29449121e+00, ...,\n",
       "          1.90093411e-01, -8.20182022e-01, -5.21792444e-01]],\n",
       "\n",
       "       [[-2.10573247e+00,  3.09598314e+00, -6.05529674e+00, ...,\n",
       "          2.48142501e+00,  3.21462045e+00, -1.99939608e+00],\n",
       "        [-7.67988925e-02,  5.25376904e-01,  4.70762280e+00, ...,\n",
       "          1.71970818e-01, -3.69997600e+00,  4.91563059e+00],\n",
       "        [ 1.44977537e+00, -1.87832379e+00,  1.16700459e+01, ...,\n",
       "         -2.77242196e+00, -7.14081189e+00,  5.27666117e+00],\n",
       "        ...,\n",
       "        [-2.88691467e-02, -1.22758183e+00,  4.69118208e+00, ...,\n",
       "          6.84146850e-01, -6.53330111e+00,  3.94923244e+00],\n",
       "        [-9.33743236e-01,  1.67119753e+00, -7.80661895e-01, ...,\n",
       "          2.42626382e+00,  1.54969279e+00, -1.53897222e+00],\n",
       "        [ 4.92395726e-01, -4.67821575e-01, -3.03761536e+00, ...,\n",
       "         -1.06610453e-01, -1.31403892e-01, -1.96401829e+00]],\n",
       "\n",
       "       [[-5.32559057e-01,  2.24506749e+00,  4.27636355e+00, ...,\n",
       "         -8.86792007e-01, -2.63275237e+00,  1.31227745e+00],\n",
       "        [-2.49533376e-01,  2.60558774e+00, -8.43234507e-01, ...,\n",
       "          1.12886907e-01,  2.42409772e+00, -1.75665749e-01],\n",
       "        [-1.00605073e+00, -5.19001123e-01, -3.52084798e+00, ...,\n",
       "          2.70657707e+00,  3.22118841e+00, -5.41826175e-01],\n",
       "        ...,\n",
       "        [ 1.49906275e+00,  1.91448273e+00, -3.78235050e+00, ...,\n",
       "          2.20302778e-01,  2.58165232e+00, -7.49931164e-01],\n",
       "        [ 3.19580029e-01,  1.74973220e+00,  3.05419151e+00, ...,\n",
       "         -2.06716138e-01,  8.35342009e-01,  2.88972235e+00],\n",
       "        [ 1.49304128e+00, -4.65508883e-01, -4.91559644e+00, ...,\n",
       "          3.24011690e-01, -2.07455926e+00, -1.55268239e+00]],\n",
       "\n",
       "       ...,\n",
       "\n",
       "       [[ 8.92254921e-01, -1.34446068e+00, -1.37646686e+00, ...,\n",
       "         -7.25224398e-01,  5.38120047e-01,  5.92743804e-04],\n",
       "        [ 1.16734882e+00, -1.46340119e+00,  3.88788964e-01, ...,\n",
       "          1.63551216e-02,  1.50150111e+00,  1.56705487e+00],\n",
       "        [ 1.23012605e-01, -2.86362027e-01, -1.60070502e+00, ...,\n",
       "          2.27107997e+00, -1.22983625e+00, -2.49359492e-01],\n",
       "        ...,\n",
       "        [-2.18337720e+00, -4.77049322e-01, -2.50447263e+00, ...,\n",
       "          5.76377690e-01, -9.60665235e-01,  1.19649297e+00],\n",
       "        [-1.36302089e+00, -2.99975200e+00,  1.77668725e-01, ...,\n",
       "         -3.44324074e-01, -1.01750142e+00, -6.20493676e-02],\n",
       "        [-2.20340840e+00,  2.13474391e+00,  5.50861285e+00, ...,\n",
       "          9.78766318e-01,  2.27066007e+00,  1.74447455e+00]],\n",
       "\n",
       "       [[-5.05812863e-01, -1.62737897e+00,  1.05732074e+00, ...,\n",
       "         -6.11129756e-01, -8.76722516e-01, -3.88930564e-01],\n",
       "        [-4.91380246e-04, -1.58274803e+00, -5.89785220e-02, ...,\n",
       "          6.15181860e-01, -2.07954610e-01,  4.55046002e-01],\n",
       "        [ 8.18226647e-01,  9.23214898e-01,  9.69718899e-03, ...,\n",
       "          2.24378362e-01,  7.14993986e-02,  9.23938163e-01],\n",
       "        ...,\n",
       "        [-5.09069860e-01, -3.97549929e+00,  2.11402278e+00, ...,\n",
       "          7.49733237e-01, -2.35177907e+00,  4.05396167e-01],\n",
       "        [ 1.35018212e-01, -1.77907626e+00, -3.49929843e+00, ...,\n",
       "         -1.25036660e+00, -3.16918057e+00,  6.46566226e-01],\n",
       "        [-5.88678641e-01,  4.73623303e-01,  2.85372849e+00, ...,\n",
       "          1.05411546e+00,  4.23737525e-01, -3.93435471e-01]],\n",
       "\n",
       "       [[-1.31254826e+00,  2.44843596e-01, -1.48449667e+00, ...,\n",
       "         -8.59712757e-01,  2.43116369e+00, -1.60541161e+00],\n",
       "        [ 7.48587935e-01, -1.65205884e+00,  3.63191961e+00, ...,\n",
       "          1.07737224e-01, -2.30956806e+00,  7.43150464e-01],\n",
       "        [ 8.20040857e-02, -3.64525457e+00,  4.99431546e+00, ...,\n",
       "         -5.73586321e-01, -4.08774482e+00,  2.13290151e+00],\n",
       "        ...,\n",
       "        [ 1.53833678e+00, -3.19089950e-02,  2.94027025e+00, ...,\n",
       "         -1.18772140e+00, -2.77656305e+00,  1.14621199e+00],\n",
       "        [ 1.58154811e-01,  2.35864556e-01, -2.43451748e+00, ...,\n",
       "         -5.96868505e-01,  1.66547594e-01, -8.83065339e-01],\n",
       "        [ 1.61885274e+00,  7.42792328e-01, -8.46520006e-01, ...,\n",
       "          1.01862568e-02,  1.85657638e+00,  1.52699665e+00]]])"
      ]
     },
     "execution_count": 25,
     "metadata": {},
     "output_type": "execute_result"
    }
   ],
   "source": [
    "tensor"
   ]
  },
  {
   "cell_type": "code",
   "execution_count": 26,
   "metadata": {
    "collapsed": true
   },
   "outputs": [],
   "source": [
    "tensor = Tensor(tensor)"
   ]
  },
  {
   "cell_type": "code",
   "execution_count": 27,
   "metadata": {},
   "outputs": [
    {
     "data": {
      "text/plain": [
       "CPD(epsilon=0.01, init='svd', max_iter=50, random_state=None, tol=0.0001,\n",
       "    verbose=False)"
      ]
     },
     "execution_count": 27,
     "metadata": {},
     "output_type": "execute_result"
    }
   ],
   "source": [
    "alg = CPD(init='svd')\n",
    "alg"
   ]
  },
  {
   "cell_type": "code",
   "execution_count": 28,
   "metadata": {},
   "outputs": [
    {
     "name": "stdout",
     "output_type": "stream",
     "text": [
      "\tOutput of the CPD algorithm:\n",
      "Kruskal representation of a tensor with rank=(5,).\n",
      "Factor matrices represent properties: ['mode-0', 'mode-1', 'mode-2']\n",
      "With corresponding latent components described by (100, 100, 100) features respectively.\n",
      "\n",
      "\tFactor matrices\n",
      "Mode-0 factor matrix is of shape (100, 5)\n",
      "Mode-1 factor matrix is of shape (100, 5)\n",
      "Mode-2 factor matrix is of shape (100, 5)\n",
      "\n",
      "\tCore tensor\n",
      "This tensor is of order 3 and consists of 125 elements.\n",
      "Sizes and names of its modes are (5, 5, 5) and ['mode-0', 'mode-1', 'mode-2'] respectively.\n"
     ]
    }
   ],
   "source": [
    "kruskal_rank = (5,)\n",
    "\n",
    "tensor_cpd = alg.decompose(tensor, rank=kruskal_rank)\n",
    "print(\"\\tOutput of the {} algorithm:\".format(alg.name))\n",
    "print(tensor_cpd)\n",
    "\n",
    "print('\\n\\tFactor matrices')\n",
    "for mode, fmat in enumerate(tensor_cpd.fmat):\n",
    "    print('Mode-{} factor matrix is of shape {}'.format(mode, fmat.shape))\n",
    "    \n",
    "print('\\n\\tCore tensor')\n",
    "print(tensor_cpd.core)"
   ]
  },
  {
   "cell_type": "code",
   "execution_count": 29,
   "metadata": {},
   "outputs": [
    {
     "data": {
      "text/plain": [
       "HOSVD(process=(), verbose=False)"
      ]
     },
     "execution_count": 29,
     "metadata": {},
     "output_type": "execute_result"
    }
   ],
   "source": [
    "alg = HOSVD()\n",
    "alg"
   ]
  },
  {
   "cell_type": "code",
   "execution_count": 30,
   "metadata": {},
   "outputs": [
    {
     "name": "stdout",
     "output_type": "stream",
     "text": [
      "\tOutput of the HOSVD algorithm:\n",
      "Tucker representation of a tensor with multi-linear rank=(4, 5, 6).\n",
      "Factor matrices represent properties: ['mode-0', 'mode-1', 'mode-2']\n",
      "With corresponding latent components described by (100, 100, 100) features respectively.\n",
      "\n",
      "\tFactor matrices\n",
      "Mode-0 factor matrix is of shape (100, 4)\n",
      "Mode-1 factor matrix is of shape (100, 5)\n",
      "Mode-2 factor matrix is of shape (100, 6)\n",
      "\n",
      "\tCore tensor\n",
      "This tensor is of order 3 and consists of 120 elements.\n",
      "Sizes and names of its modes are (4, 5, 6) and ['mode-0', 'mode-1', 'mode-2'] respectively.\n"
     ]
    }
   ],
   "source": [
    "ml_rank = (4, 5, 6)\n",
    "tensor_tkd_hosvd = alg.decompose(tensor, ml_rank)\n",
    "print(\"\\tOutput of the {} algorithm:\".format(alg.name))\n",
    "print(tensor_tkd_hosvd)\n",
    "\n",
    "print('\\n\\tFactor matrices')\n",
    "for mode, fmat in enumerate(tensor_tkd_hosvd.fmat):\n",
    "    print('Mode-{} factor matrix is of shape {}'.format(mode, fmat.shape))\n",
    "    \n",
    "print('\\n\\tCore tensor')\n",
    "print(tensor_tkd_hosvd.core)"
   ]
  },
  {
   "cell_type": "code",
   "execution_count": 31,
   "metadata": {},
   "outputs": [
    {
     "name": "stdout",
     "output_type": "stream",
     "text": [
      "Relative error of CPD approximation = 0.44\n"
     ]
    }
   ],
   "source": [
    "rel_error = residual_rel_error(tensor, tensor_cpd)\n",
    "print('Relative error of CPD approximation = {:.2f}'.format(rel_error))"
   ]
  },
  {
   "cell_type": "code",
   "execution_count": 32,
   "metadata": {},
   "outputs": [
    {
     "name": "stdout",
     "output_type": "stream",
     "text": [
      "Relative error of HOSVD approximation = 0.44\n"
     ]
    }
   ],
   "source": [
    "rel_error = residual_rel_error(tensor, tensor_tkd_hosvd)\n",
    "print('Relative error of HOSVD approximation = {:.2f}'.format(rel_error))"
   ]
  }
 ],
 "metadata": {
  "kernelspec": {
   "display_name": "Python 3",
   "language": "python",
   "name": "python3"
  },
  "language_info": {
   "codemirror_mode": {
    "name": "ipython",
    "version": 3
   },
   "file_extension": ".py",
   "mimetype": "text/x-python",
   "name": "python",
   "nbconvert_exporter": "python",
   "pygments_lexer": "ipython3",
   "version": "3.6.3"
  }
 },
 "nbformat": 4,
 "nbformat_minor": 2
}
